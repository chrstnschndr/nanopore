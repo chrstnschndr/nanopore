{
 "cells": [
  {
   "cell_type": "markdown",
   "metadata": {},
   "source": [
    "# Basecalling"
   ]
  },
  {
   "cell_type": "markdown",
   "metadata": {},
   "source": [
    "sudo ./guppy_basecaller --input_path <input> --save_path <save> --flowcell FLO-FLG001 --kit SQK-LSK109 -x cuda:all:100%"
   ]
  },
  {
   "cell_type": "markdown",
   "metadata": {},
   "source": [
    "# MAPPING"
   ]
  },
  {
   "cell_type": "markdown",
   "metadata": {},
   "source": [
    "### Mapping of 10 samples de-multiplexed and sorted into according folder 0-9"
   ]
  },
  {
   "cell_type": "raw",
   "metadata": {},
   "source": [
    "mkdir ./aligned ./quant"
   ]
  },
  {
   "cell_type": "raw",
   "metadata": {},
   "source": [
    "for bc in {0..9}\n",
    "do minimap2 -ax map-ont --secondary=no -N 0 <h38_frna_from_genomic.fna>\n",
    "<in_fasta_path>/${bc}*.fasta > <out_sam_path>bc${bc}.sam\n",
    "done"
   ]
  },
  {
   "cell_type": "markdown",
   "metadata": {},
   "source": [
    "## Removing Duplicates"
   ]
  },
  {
   "cell_type": "code",
   "execution_count": 1,
   "metadata": {},
   "outputs": [],
   "source": [
    "import pysam\n",
    "import numpy as np\n",
    "import pandas as pd\n",
    "import matplotlib.pyplot as plt; plt.rcdefaults()\n",
    "import os"
   ]
  },
  {
   "cell_type": "code",
   "execution_count": 2,
   "metadata": {},
   "outputs": [],
   "source": [
    "def sam_filterer(infile, outfile):\n",
    "    in_sam_file = pysam.AlignmentFile(infile, \"r\")\n",
    "    out_path = open(outfile, \"w\")\n",
    "    out_sam_file = pysam.AlignmentFile(out_path, \"wh\", template=in_sam_file)\n",
    "    for read in in_sam_file:\n",
    "        if read.is_supplementary == False and read.is_secondary == False:\n",
    "            out_sam_file.write(read)"
   ]
  },
  {
   "cell_type": "code",
   "execution_count": 3,
   "metadata": {},
   "outputs": [],
   "source": [
    "for file in os.listdir(<\"in_path\">):\n",
    "    sam_filterer(f\"<in_path/>{file}\", f\"<out_path/>{file}\")"
   ]
  },
  {
   "cell_type": "markdown",
   "metadata": {},
   "source": [
    "# SALMON QUANTIFICATION"
   ]
  },
  {
   "cell_type": "raw",
   "metadata": {},
   "source": [
    "for bc in {0..9}\n",
    "do mkdir <salmon_out_path>\n",
    "do salmon quant -p 6 -t  <path_fna_ref> --noErrorModel  -l SF -a <sam_in_path>.sam -o <salmon_out_path/>bc${bc}\n",
    "done"
   ]
  }
 ],
 "metadata": {
  "kernelspec": {
   "display_name": "Python 3",
   "language": "python",
   "name": "python3"
  },
  "language_info": {
   "codemirror_mode": {
    "name": "ipython",
    "version": 3
   },
   "file_extension": ".py",
   "mimetype": "text/x-python",
   "name": "python",
   "nbconvert_exporter": "python",
   "pygments_lexer": "ipython3",
   "version": "3.7.3"
  }
 },
 "nbformat": 4,
 "nbformat_minor": 2
}
